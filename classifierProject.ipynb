{
  "nbformat": 4,
  "nbformat_minor": 0,
  "metadata": {
    "kernelspec": {
      "display_name": "Python 3",
      "language": "python",
      "name": "python3"
    },
    "language_info": {
      "codemirror_mode": {
        "name": "ipython",
        "version": 3
      },
      "file_extension": ".py",
      "mimetype": "text/x-python",
      "name": "python",
      "nbconvert_exporter": "python",
      "pygments_lexer": "ipython3",
      "version": "3.7.4"
    },
    "colab": {
      "name": "classifierProject.ipynb",
      "provenance": [],
      "collapsed_sections": [],
      "include_colab_link": true
    }
  },
  "cells": [
    {
      "cell_type": "markdown",
      "metadata": {
        "id": "view-in-github",
        "colab_type": "text"
      },
      "source": [
        "<a href=\"https://colab.research.google.com/github/AndyAlyf/Python_Latihan/blob/master/classifierProject.ipynb\" target=\"_parent\"><img src=\"https://colab.research.google.com/assets/colab-badge.svg\" alt=\"Open In Colab\"/></a>"
      ]
    },
    {
      "cell_type": "code",
      "metadata": {
        "id": "RmTKZWCl0d0G",
        "colab_type": "code",
        "colab": {
          "base_uri": "https://localhost:8080/",
          "height": 153
        },
        "outputId": "ad10d38f-10e6-470a-c90a-9f1e2d59124d"
      },
      "source": [
        "print(data)"
      ],
      "execution_count": 115,
      "outputs": [
        {
          "output_type": "stream",
          "text": [
            "   suka  masak  nasi  goreng  ukur  ...  mobil  bus  angkut  tumpang     LABEL\n",
            "0     2      3     3       3     0  ...      0    0       0        0   kuliner\n",
            "1     0      0     2       0     1  ...      0    0       0        0   kuliner\n",
            "2     0      0     1       0     0  ...      0    0       0        0  logistik\n",
            "3     0      0     0       0     1  ...      4    2       1        1  otomotif\n",
            "4     0      0     0       0     1  ...      0    2       0        0  otomotif\n",
            "\n",
            "[5 rows x 14 columns]\n"
          ],
          "name": "stdout"
        }
      ]
    },
    {
      "cell_type": "code",
      "metadata": {
        "id": "Mve8iJBOsuAJ",
        "colab_type": "code",
        "colab": {
          "base_uri": "https://localhost:8080/",
          "height": 207
        },
        "outputId": "e7660689-0019-447c-fd54-3a4db68e41e8"
      },
      "source": [
        "import pandas as pd\n",
        "import csv\n",
        "import math\n",
        "\n",
        "class naifeBayes():\n",
        "    def __init__(self,data,kolom):\n",
        "        self.data=data\n",
        "        self.kolom=kolom\n",
        "        self.label = []\n",
        "        for i in range(len(self.data)):\n",
        "            if(self.data['LABEL'][i]) not in self.label:\n",
        "                self.label+=[self.data['LABEL'][i]]\n",
        "\n",
        "    def prints(self):\n",
        "        print(self.data,self.kolom,self.label)\n",
        "\n",
        "    def pcd(self,c,pred1,predk):\n",
        "        temp = 1\n",
        "        for i in predk:\n",
        "            temps = 1\n",
        "            if(pred1[i]>1):\n",
        "                for j in range(pred1[i]):\n",
        "                    temps = temps*self.pdc(i,c)\n",
        "                temp = temp*temps\n",
        "            else:\n",
        "                temp = temp*self.pdc(i,c)\n",
        "        temp = temp*self.pc(c)\n",
        "        return temp\n",
        "\n",
        "    def pc(self,c):\n",
        "        c = str(c)\n",
        "        count = 0\n",
        "        leng = len(data)\n",
        "        for i in range(leng):\n",
        "            if (data['LABEL'][i]==c):\n",
        "                count+=1\n",
        "        temp = count/leng\n",
        "        return temp\n",
        "\n",
        "    def pdc(self,w,c):\n",
        "        countv = len(kolom)\n",
        "        sumw = 0\n",
        "        countwc = 0\n",
        "        for i in range(len(data)):\n",
        "            sumw+=data[w][i]\n",
        "            if(data['LABEL'][i]==c):\n",
        "                countwc+=data[w][i]\n",
        "        atas = countwc + 1\n",
        "        bawah = sumw + countv\n",
        "        temp = atas/bawah\n",
        "        return temp\n",
        "    \n",
        "\n",
        "data = pd.read_csv(\"Testes.csv\")\n",
        "# ambil kolom sebagai list dengan nama kolom\n",
        "kolom=[]\n",
        "with open(\"Testes.csv\") as csf:\n",
        "    readCSV = csv.reader(csf,delimiter=\",\")\n",
        "    for i in readCSV:\n",
        "        kolom += i\n",
        "        kolom = kolom[:-1]\n",
        "        break\n",
        "\n",
        "# untuk diprediksi nanti\n",
        "# memetakan kata unik yang ada\n",
        "l1st=[0,0,3,4,2,4,0,0,0,4,1,0,0]\n",
        "pred = dict()\n",
        "pred1 = dict()\n",
        "predk=[]\n",
        "j=0\n",
        "for i in kolom:\n",
        "    pred[i] = l1st[j]\n",
        "    if pred[i]>0:\n",
        "        pred1[i] = l1st[j]\n",
        "        predk+=[i]\n",
        "    j+=1\n",
        "\n",
        "print(pred)\n",
        "print(pred1)\n",
        "print(predk)\n",
        "print()\n",
        "c = naifeBayes(data,kolom)\n",
        "print(c.label)\n",
        "high= 0\n",
        "kats =''\n",
        "for i in c.label:\n",
        "    hasil = c.pcd(i,pred1,predk)\n",
        "    print(\"Peluang masuk kategori\",i,\"adalah :\",hasil)\n",
        "    if hasil>high:\n",
        "        high = hasil\n",
        "        kats = i\n",
        "\n",
        "print()\n",
        "print(\"Jadi, artikel ini termasuk pada kategori :\",kats,\"dengan peluang\",high)"
      ],
      "execution_count": 114,
      "outputs": [
        {
          "output_type": "stream",
          "text": [
            "{'suka': 0, 'masak': 0, 'nasi': 3, 'goreng': 4, 'ukur': 2, 'makan': 4, 'beras': 0, 'tanam': 0, 'sawah': 0, 'mobil': 4, 'bus': 1, 'angkut': 0, 'tumpang': 0}\n",
            "{'nasi': 3, 'goreng': 4, 'ukur': 2, 'makan': 4, 'mobil': 4, 'bus': 1}\n",
            "['nasi', 'goreng', 'ukur', 'makan', 'mobil', 'bus']\n",
            "\n",
            "['kuliner', 'logistik', 'otomotif']\n",
            "Peluang masuk kategori kuliner adalah : 2.2552580068716796e-16\n",
            "Peluang masuk kategori logistik adalah : 2.549074533953269e-22\n",
            "Peluang masuk kategori otomotif adalah : 1.7923180316858934e-18\n",
            "\n",
            "Jadi, artikel ini termasuk pada kategori : kuliner dengan peluang 2.2552580068716796e-16\n"
          ],
          "name": "stdout"
        }
      ]
    },
    {
      "cell_type": "code",
      "metadata": {
        "id": "dTin3RjeCIrx",
        "colab_type": "code",
        "colab": {}
      },
      "source": [
        ""
      ],
      "execution_count": 0,
      "outputs": []
    }
  ]
}