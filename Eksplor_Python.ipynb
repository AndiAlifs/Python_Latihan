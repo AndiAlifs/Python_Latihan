{
  "nbformat": 4,
  "nbformat_minor": 0,
  "metadata": {
    "colab": {
      "name": "Eksplor Python",
      "provenance": [],
      "collapsed_sections": [],
      "authorship_tag": "ABX9TyPbOU3Nzf5cVBIXGBsZIhqt",
      "include_colab_link": true
    },
    "kernelspec": {
      "name": "python3",
      "display_name": "Python 3"
    }
  },
  "cells": [
    {
      "cell_type": "markdown",
      "metadata": {
        "id": "view-in-github",
        "colab_type": "text"
      },
      "source": [
        "<a href=\"https://colab.research.google.com/github/AndyAlyf/Python_Latihan/blob/master/Eksplor_Python.ipynb\" target=\"_parent\"><img src=\"https://colab.research.google.com/assets/colab-badge.svg\" alt=\"Open In Colab\"/></a>"
      ]
    },
    {
      "cell_type": "code",
      "metadata": {
        "colab_type": "code",
        "id": "2S9l9VU4gE_0",
        "colab": {}
      },
      "source": [
        "listKata = (\"Makan\",\"Uang\")\n",
        "\n",
        "dict[\"Makan\"] = dict[\"Makan\"]+1\n",
        "for i in listKata:\n",
        "    print(dict[i])"
      ],
      "execution_count": 0,
      "outputs": []
    },
    {
      "cell_type": "code",
      "metadata": {
        "colab_type": "code",
        "id": "c7Q76kBaVqvz",
        "outputId": "f662aa18-fa4d-4f34-e6a8-393b854edd21",
        "colab": {
          "base_uri": "https://localhost:8080/",
          "height": 34
        }
      },
      "source": [
        "import pandas as pd\n",
        "import csv\n",
        "\n",
        "kolom=[]\n",
        "data = pd.read_csv(\"Testes.csv\")\n",
        "\n",
        "# ambil kolom sebagai list\n",
        "with open(\"Testes.csv\") as csf:\n",
        "    readCSV = csv.reader(csf,delimiter=\",\")\n",
        "    for i in readCSV:\n",
        "        kolom += i\n",
        "        kolom = kolom[:-1]\n",
        "        break\n",
        "\n",
        "print(kolom)"
      ],
      "execution_count": 1,
      "outputs": [
        {
          "output_type": "stream",
          "text": [
            "['suka', 'masak', 'nasi', 'goreng', 'ukur', 'makan', 'beras', 'tanam', 'sawah', 'mobil', 'bus', 'angkut', 'tumpang']\n"
          ],
          "name": "stdout"
        }
      ]
    },
    {
      "cell_type": "code",
      "metadata": {
        "id": "sNRN_zk9JNZg",
        "colab_type": "code",
        "colab": {
          "base_uri": "https://localhost:8080/",
          "height": 153
        },
        "outputId": "0ff49214-4846-4f66-8c49-cc59d2ceb340"
      },
      "source": [
        "print(data)"
      ],
      "execution_count": 15,
      "outputs": [
        {
          "output_type": "stream",
          "text": [
            "   suka  masak  nasi  goreng  ukur  ...  mobil  bus  angkut  tumpang  LABEL\n",
            "0     2      3     3       3     0  ...      0    0       0        0      A\n",
            "1     0      0     2       0     1  ...      0    0       0        0      A\n",
            "2     0      0     1       0     0  ...      0    0       0        0      B\n",
            "3     0      0     0       0     1  ...      4    2       1        1      B\n",
            "4     0      0     0       0     1  ...      0    2       0        0      C\n",
            "\n",
            "[5 rows x 14 columns]\n"
          ],
          "name": "stdout"
        }
      ]
    },
    {
      "cell_type": "code",
      "metadata": {
        "id": "strcZp00Hktg",
        "colab_type": "code",
        "colab": {
          "base_uri": "https://localhost:8080/",
          "height": 527
        },
        "outputId": "066f5d53-a1dc-456f-b822-4202ab6ca4d9"
      },
      "source": [
        "dis = {{}}\n",
        "for i in range(len(data)):\n",
        "    if (data['LABEL'][i]=='A'):\n",
        "        dis\n",
        "    "
      ],
      "execution_count": 18,
      "outputs": [
        {
          "output_type": "stream",
          "text": [
            "suka       2\n",
            "masak      3\n",
            "nasi       3\n",
            "goreng     3\n",
            "ukur       0\n",
            "makan      0\n",
            "beras      0\n",
            "tanam      0\n",
            "sawah      0\n",
            "mobil      0\n",
            "bus        0\n",
            "angkut     0\n",
            "tumpang    0\n",
            "LABEL      A\n",
            "Name: 0, dtype: object\n",
            "suka       0\n",
            "masak      0\n",
            "nasi       2\n",
            "goreng     0\n",
            "ukur       1\n",
            "makan      1\n",
            "beras      0\n",
            "tanam      0\n",
            "sawah      0\n",
            "mobil      0\n",
            "bus        0\n",
            "angkut     0\n",
            "tumpang    0\n",
            "LABEL      A\n",
            "Name: 1, dtype: object\n"
          ],
          "name": "stdout"
        }
      ]
    },
    {
      "cell_type": "code",
      "metadata": {
        "id": "tHqqSF0pf_k1",
        "colab_type": "code",
        "outputId": "ebe72efe-2197-45b0-8d72-51abd80d2a61",
        "colab": {
          "base_uri": "https://localhost:8080/",
          "height": 34
        }
      },
      "source": [
        "dict = {\"makan\":5,\"uang\":1}\n",
        "for i in kolom:\n",
        "    if i in dict:\n",
        "        print(i,\":\",dict[i])"
      ],
      "execution_count": 0,
      "outputs": [
        {
          "output_type": "stream",
          "text": [
            "makan : 5\n"
          ],
          "name": "stdout"
        }
      ]
    }
  ]
}