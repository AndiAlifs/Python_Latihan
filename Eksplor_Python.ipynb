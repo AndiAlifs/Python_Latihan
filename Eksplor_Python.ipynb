{
  "nbformat": 4,
  "nbformat_minor": 0,
  "metadata": {
    "colab": {
      "name": "Eksplor Python",
      "provenance": [],
      "collapsed_sections": [],
      "authorship_tag": "ABX9TyPGxPTb3pJfBGJbqbo8RjNz",
      "include_colab_link": true
    },
    "kernelspec": {
      "name": "python3",
      "display_name": "Python 3"
    }
  },
  "cells": [
    {
      "cell_type": "markdown",
      "metadata": {
        "id": "view-in-github",
        "colab_type": "text"
      },
      "source": [
        "<a href=\"https://colab.research.google.com/github/AndyAlyf/Python_Latihan/blob/master/Eksplor_Python.ipynb\" target=\"_parent\"><img src=\"https://colab.research.google.com/assets/colab-badge.svg\" alt=\"Open In Colab\"/></a>"
      ]
    },
    {
      "cell_type": "code",
      "metadata": {
        "colab_type": "code",
        "id": "2S9l9VU4gE_0",
        "colab": {}
      },
      "source": [
        "listKata = (\"Makan\",\"Uang\")\n",
        "\n",
        "dict[\"Makan\"] = dict[\"Makan\"]+1\n",
        "for i in listKata:\n",
        "    print(dict[i])"
      ],
      "execution_count": 0,
      "outputs": []
    },
    {
      "cell_type": "code",
      "metadata": {
        "colab_type": "code",
        "id": "c7Q76kBaVqvz",
        "outputId": "eaa54655-3d49-4224-84a6-4fb0a8ad0f08",
        "colab": {
          "base_uri": "https://localhost:8080/",
          "height": 34
        }
      },
      "source": [
        "import pandas as pd\n",
        "import csv\n",
        "\n",
        "kolom=[]\n",
        "data = pd.read_csv(\"Testes.csv\")\n",
        "\n",
        "# ambil kolom sebagai list\n",
        "with open(\"Testes.csv\") as csf:\n",
        "    readCSV = csv.reader(csf,delimiter=\",\")\n",
        "    for i in readCSV:\n",
        "        kolom += i\n",
        "        kolom = kolom[:-1]\n",
        "        break\n",
        "\n",
        "print(kolom)"
      ],
      "execution_count": 0,
      "outputs": [
        {
          "output_type": "stream",
          "text": [
            "['suka', 'masak', 'nasi', 'goreng', 'ukur', 'makan', 'beras', 'tanam', 'sawah', 'mobil', 'bus', 'angkut', 'tumpang']\n"
          ],
          "name": "stdout"
        }
      ]
    },
    {
      "cell_type": "code",
      "metadata": {
        "id": "tHqqSF0pf_k1",
        "colab_type": "code",
        "outputId": "ebe72efe-2197-45b0-8d72-51abd80d2a61",
        "colab": {
          "base_uri": "https://localhost:8080/",
          "height": 34
        }
      },
      "source": [
        "dict = {\"makan\":5,\"uang\":1}\n",
        "for i in kolom:\n",
        "    if i in dict:\n",
        "        print(i,\":\",dict[i])"
      ],
      "execution_count": 0,
      "outputs": [
        {
          "output_type": "stream",
          "text": [
            "makan : 5\n"
          ],
          "name": "stdout"
        }
      ]
    }
  ]
}